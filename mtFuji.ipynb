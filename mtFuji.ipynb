{
 "metadata": {
  "language_info": {
   "codemirror_mode": {
    "name": "ipython",
    "version": 3
   },
   "file_extension": ".py",
   "mimetype": "text/x-python",
   "name": "python",
   "nbconvert_exporter": "python",
   "pygments_lexer": "ipython3",
   "version": "3.6.9-final"
  },
  "orig_nbformat": 2,
  "kernelspec": {
   "name": "python3",
   "display_name": "Python 3.6.9 64-bit",
   "metadata": {
    "interpreter": {
     "hash": "31f2aee4e71d21fbe5cf8b01ff0e069b9275f58929596ceb00d14d90e3e16cd6"
    }
   }
  }
 },
 "nbformat": 4,
 "nbformat_minor": 2,
 "cells": [
  {
   "source": [
    "# Python introductory lesson assignment how many diffractions will cross Mt. Fuji\n",
    "## Name: Nguyen Anh Hoang Phuc"
   ],
   "cell_type": "markdown",
   "metadata": {}
  },
  {
   "source": [
    "## Problem 1"
   ],
   "cell_type": "markdown",
   "metadata": {}
  },
  {
   "cell_type": "code",
   "execution_count": 1,
   "metadata": {},
   "outputs": [],
   "source": [
    "MtFuji = 3776\n",
    "THICKNESS = 0.00008\n",
    "count = 0\n",
    "while THICKNESS*(2**count) < MtFuji:\n",
    "    count += 1"
   ]
  },
  {
   "cell_type": "code",
   "execution_count": 2,
   "metadata": {},
   "outputs": [
    {
     "output_type": "stream",
     "name": "stdout",
     "text": [
      "The number of times the paper will fold when the thickness exceeds \"Mt. Fuji (3776m)\" is 26 times\n"
     ]
    }
   ],
   "source": [
    "print(\"The number of times the paper will fold when the thickness exceeds \\\"Mt. Fuji (3776m)\\\" is {} times\".format(count))"
   ]
  },
  {
   "source": [
    "## Problem 2"
   ],
   "cell_type": "markdown",
   "metadata": {}
  },
  {
   "source": [
    "I research that the closest non-sun star is Proxima Centauri, the distance is 4.22 light-years ~ 3.99234299 × 10^16 m, link: https://www.space.com/18090-alpha-centauri-nearest-star-system.html"
   ],
   "cell_type": "markdown",
   "metadata": {}
  },
  {
   "cell_type": "code",
   "execution_count": 3,
   "metadata": {},
   "outputs": [],
   "source": [
    "def num_diffraction(distance, THICKNESS=0.00008):\n",
    "    count = 0\n",
    "    while THICKNESS*(2**count)<distance:\n",
    "        count += 1\n",
    "    return count"
   ]
  },
  {
   "cell_type": "code",
   "execution_count": 4,
   "metadata": {},
   "outputs": [],
   "source": [
    "distance = 3.99234299 * (10**16)\n",
    "THICKNESS=0.00008\n",
    "result = num_diffraction(distance, THICKNESS)"
   ]
  },
  {
   "cell_type": "code",
   "execution_count": 5,
   "metadata": {},
   "outputs": [
    {
     "output_type": "stream",
     "name": "stdout",
     "text": [
      "The number of times you have to bend the paper to reach the \"closest non-Sun star.\"-Proxima Centauri is 69 times\n"
     ]
    }
   ],
   "source": [
    "print(\"The number of times you have to bend the paper to reach the \\\"closest non-Sun star.\\\"-Proxima Centauri is {} times\".format(result))"
   ]
  },
  {
   "source": [
    "## Problem 3"
   ],
   "cell_type": "markdown",
   "metadata": {}
  },
  {
   "cell_type": "code",
   "execution_count": 6,
   "metadata": {},
   "outputs": [],
   "source": [
    "import math \n",
    "THICKNESS=0.00008\n",
    "distance_moon = 3.84402*(10**8) # link: https://en.wikipedia.org/wiki/Lunar_distance_(astronomy)\n",
    "distance_MtFuji = 3776\n",
    "distance_star = 3.99234299 * (10**16)\n",
    "pi = math.pi"
   ]
  },
  {
   "cell_type": "code",
   "execution_count": 7,
   "metadata": {},
   "outputs": [],
   "source": [
    "def compute_length(num_diffract, THICKNESS):\n",
    "    return (pi*THICKNESS/6)*(2**num_diffract + 4)*(2**num_diffract-1)"
   ]
  },
  {
   "cell_type": "code",
   "execution_count": 8,
   "metadata": {},
   "outputs": [
    {
     "output_type": "stream",
     "name": "stdout",
     "text": [
      "The length of paper needed to reach the Moon is 3.240919444170781e+21 m\n"
     ]
    }
   ],
   "source": [
    "num_diffract_moon = num_diffraction(distance_moon, THICKNESS)\n",
    "length_moon = compute_length(num_diffract_moon, THICKNESS)\n",
    "print(\"The length of paper needed to reach the Moon is {} m\".format(length_moon))"
   ]
  },
  {
   "cell_type": "code",
   "execution_count": 9,
   "metadata": {},
   "outputs": [
    {
     "output_type": "stream",
     "name": "stdout",
     "text": [
      "The length of paper needed to reach the Mt.Fuji is 188646348487.24017 m\n"
     ]
    }
   ],
   "source": [
    "num_diffract_MtFuji = num_diffraction(distance_MtFuji, THICKNESS)\n",
    "length_MtFuji = compute_length(num_diffract_MtFuji, THICKNESS)\n",
    "print(\"The length of paper needed to reach the Mt.Fuji is {} m\".format(length_MtFuji))"
   ]
  },
  {
   "cell_type": "code",
   "execution_count": 10,
   "metadata": {},
   "outputs": [
    {
     "output_type": "stream",
     "name": "stdout",
     "text": [
      "The length of paper needed to reach he stars closest to the Sun is 1.4595803601100348e+37 m\n"
     ]
    }
   ],
   "source": [
    "num_diffract_star = num_diffraction(distance_star, THICKNESS)\n",
    "length_star = compute_length(num_diffract_star, THICKNESS)\n",
    "print(\"The length of paper needed to reach he stars closest to the Sun is {} m\".format(length_star))"
   ]
  }
 ]
}